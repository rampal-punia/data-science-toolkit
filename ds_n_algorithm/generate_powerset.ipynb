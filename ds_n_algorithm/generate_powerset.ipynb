{
 "cells": [
  {
   "cell_type": "markdown",
   "metadata": {},
   "source": [
    "## Generate the powerset of a set in Python:\n",
    "\n",
    "1. **Using Python's Built-in Functions:**\n",
    "\n",
    "   Python’s `itertools` module provides a convenient way to generate combinations, which can be used to create the powerset."
   ]
  },
  {
   "cell_type": "code",
   "execution_count": 4,
   "metadata": {},
   "outputs": [
    {
     "name": "stdout",
     "output_type": "stream",
     "text": [
      "[(), (1,), (2,), (3,), (1, 2), (1, 3), (2, 3), (1, 2, 3)]\n"
     ]
    }
   ],
   "source": [
    "import itertools\n",
    "\n",
    "def powerset_builtin(s):\n",
    "    # Generate all combinations of all possible lengths\n",
    "    return list(\n",
    "        itertools.chain.from_iterable(\n",
    "            itertools.combinations(s, r) for r in range(len(s) + 1)\n",
    "        )\n",
    "    )\n",
    "\n",
    "# Example usage:\n",
    "s = {1, 2, 3}\n",
    "print(powerset_builtin(s))"
   ]
  },
  {
   "cell_type": "markdown",
   "metadata": {},
   "source": [
    "**Explanation:**\n",
    "- `itertools.combinations(s, r)` generates all combinations of length `r` from the set `s`.\n",
    "- `itertools.chain.from_iterable()` flattens the list of combinations into a single iterable.\n",
    "- `range(len(s) + 1)` ensures that combinations of all lengths from `0` to `len(s)` are generated."
   ]
  },
  {
   "cell_type": "markdown",
   "metadata": {},
   "source": [
    "2. **Using a First-Principle Approach (Manual Implementation):**\n",
    "\n",
    "This method generates the powerset by recursively combining elements."
   ]
  },
  {
   "cell_type": "code",
   "execution_count": 5,
   "metadata": {},
   "outputs": [
    {
     "name": "stdout",
     "output_type": "stream",
     "text": [
      "[[], [3], [2], [2, 3], [1], [1, 3], [1, 2], [1, 2, 3]]\n"
     ]
    }
   ],
   "source": [
    "def powerset_recursive(s):\n",
    "    # Convert set to list to handle indices\n",
    "    s = list(s)\n",
    "    \n",
    "    # Recursive function to generate powerset\n",
    "    def generate_powerset(index):\n",
    "        # Base case\n",
    "        if index == len(s):\n",
    "            return [[]]\n",
    "        \n",
    "        subsets = generate_powerset(index + 1)\n",
    "        next_element = s[index]\n",
    "        \n",
    "        more_subsets = []\n",
    "        for subset in subsets:\n",
    "            more_subsets.append([next_element] + subset)\n",
    "        \n",
    "        return subsets + more_subsets\n",
    "    \n",
    "    # Generate powerset starting from index 0\n",
    "    return generate_powerset(0)\n",
    "\n",
    "# Example usage:\n",
    "s = {1, 2, 3}\n",
    "print(powerset_recursive(s))"
   ]
  },
  {
   "cell_type": "markdown",
   "metadata": {},
   "source": [
    "**Explanation:**\n",
    "- Convert the set to a list so we can easily access elements by index.\n",
    "- The recursive function `generate_powerset(index)` works by first generating all subsets of the set elements following the current element (starting from `index + 1`). \n",
    "- It then appends the current element to each subset and combines these new subsets with the previously generated ones.\n",
    "- This process continues until all subsets are generated.\n",
    "\n",
    "Both functions will give you the powerset of the input set."
   ]
  }
 ],
 "metadata": {
  "kernelspec": {
   "display_name": "Python 3",
   "language": "python",
   "name": "python3"
  },
  "language_info": {
   "codemirror_mode": {
    "name": "ipython",
    "version": 3
   },
   "file_extension": ".py",
   "mimetype": "text/x-python",
   "name": "python",
   "nbconvert_exporter": "python",
   "pygments_lexer": "ipython3",
   "version": "3.10.12"
  }
 },
 "nbformat": 4,
 "nbformat_minor": 2
}
